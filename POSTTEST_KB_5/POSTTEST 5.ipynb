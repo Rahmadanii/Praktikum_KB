{
  "cells": [
    {
      "cell_type": "markdown",
      "metadata": {},
      "source": [
        "<h3> POSTTEST 5 <h3>"
      ]
    },
    {
      "cell_type": "markdown",
      "metadata": {},
      "source": [
        "Rahmadani <br>\n",
        "2009106082"
      ]
    },
    {
      "cell_type": "markdown",
      "metadata": {},
      "source": [
        "LIBRARY"
      ]
    },
    {
      "cell_type": "code",
      "execution_count": null,
      "metadata": {
        "id": "rUiQq2oiH48X"
      },
      "outputs": [],
      "source": [
        "import pandas as pd\n",
        "import seaborn as sns\n",
        "import matplotlib.pyplot as plt\n",
        "import numpy as np\n",
        "\n",
        "from sklearn.impute import SimpleImputer\n",
        "from sklearn.model_selection import train_test_split\n",
        "from sklearn.metrics import accuracy_score\n",
        "from sklearn.neighbors import KNeighborsClassifier\n",
        "from sklearn.naive_bayes import GaussianNB"
      ]
    },
    {
      "cell_type": "markdown",
      "metadata": {},
      "source": [
        "DATASET CITIBIKE"
      ]
    },
    {
      "cell_type": "markdown",
      "metadata": {},
      "source": [
        "MELIHAT DATASET"
      ]
    },
    {
      "cell_type": "code",
      "execution_count": null,
      "metadata": {
        "id": "ZxSfYlwOIF70"
      },
      "outputs": [],
      "source": [
        "df = pd.read_csv(\"Citibike.csv\")\n",
        "df.head(10)"
      ]
    },
    {
      "cell_type": "markdown",
      "metadata": {},
      "source": [
        "DATA RECORD"
      ]
    },
    {
      "cell_type": "code",
      "execution_count": null,
      "metadata": {
        "id": "JA2iIHaSIrRI"
      },
      "outputs": [],
      "source": [
        "df.info()"
      ]
    },
    {
      "cell_type": "markdown",
      "metadata": {},
      "source": [
        "DATA SPLIT"
      ]
    },
    {
      "cell_type": "code",
      "execution_count": null,
      "metadata": {
        "id": "GjxtD2aUKN1E"
      },
      "outputs": [],
      "source": [
        "x = df[['start_station_id', 'end_station_id']]\n",
        "y = df[['gender']]"
      ]
    },
    {
      "cell_type": "code",
      "execution_count": null,
      "metadata": {
        "id": "ijFrSNEPP5rF"
      },
      "outputs": [],
      "source": [
        "x_train, x_test, y_train, y_test = train_test_split(x,y,test_size=0.6)"
      ]
    },
    {
      "cell_type": "markdown",
      "metadata": {},
      "source": [
        "DATA CLEANING"
      ]
    },
    {
      "cell_type": "code",
      "execution_count": null,
      "metadata": {
        "id": "EkJsiP6iK9R2"
      },
      "outputs": [],
      "source": [
        "dataset_cleaning = df.copy()"
      ]
    },
    {
      "cell_type": "code",
      "execution_count": null,
      "metadata": {
        "id": "8O47Kh3XLpVq"
      },
      "outputs": [],
      "source": [
        "imputer_mean = SimpleImputer(strategy='mean')\n",
        "imputer_median = SimpleImputer(strategy='median')\n",
        "imputer_modus = SimpleImputer(strategy='most_frequent')"
      ]
    },
    {
      "cell_type": "markdown",
      "metadata": {},
      "source": [
        "MODUS"
      ]
    },
    {
      "cell_type": "code",
      "execution_count": null,
      "metadata": {
        "id": "O93gw0ObLu3d"
      },
      "outputs": [],
      "source": [
        "dataset_cleaning['bike_id'] = imputer_mean.fit_transform(dataset_cleaning[['bike_id']])\n",
        "dataset_cleaning.isna().sum()"
      ]
    },
    {
      "cell_type": "markdown",
      "metadata": {},
      "source": [
        "MEDIAN"
      ]
    },
    {
      "cell_type": "code",
      "execution_count": null,
      "metadata": {
        "id": "-hfLe1zjMg1P"
      },
      "outputs": [],
      "source": [
        "dataset_cleaning['trip_duration'] = imputer_median.fit_transform(dataset_cleaning[['trip_duration']])\n",
        "dataset_cleaning.isna().sum()"
      ]
    },
    {
      "cell_type": "code",
      "execution_count": null,
      "metadata": {
        "id": "a7rz-d4VM282"
      },
      "outputs": [],
      "source": [
        "len(dataset_cleaning)"
      ]
    },
    {
      "cell_type": "markdown",
      "metadata": {},
      "source": [
        "K-NN"
      ]
    },
    {
      "cell_type": "code",
      "execution_count": null,
      "metadata": {
        "id": "xzIBekKtNft6"
      },
      "outputs": [],
      "source": [
        "dataset_cleaning.head(5)"
      ]
    },
    {
      "cell_type": "code",
      "execution_count": null,
      "metadata": {
        "id": "cRE9-pcEWMKG"
      },
      "outputs": [],
      "source": [
        "Knn = KNeighborsClassifier()\n",
        "Knn.fit(x_train,y_train)\n",
        "\n",
        "Knn_predict = Knn.predict(x_test)\n",
        "akurasi_KNN = accuracy_score(y_test, Knn_predict)\n",
        "print(\"Akurasi algoritma KNN :\", round(akurasi_KNN,2))"
      ]
    },
    {
      "cell_type": "markdown",
      "metadata": {},
      "source": [
        "NAIVE BAYES"
      ]
    },
    {
      "cell_type": "code",
      "execution_count": null,
      "metadata": {
        "id": "yitalBSbXadb"
      },
      "outputs": [],
      "source": [
        "Gaus  = GaussianNB()\n",
        "Gaus.fit(x_train,y_train)\n",
        "\n",
        "Gaus_predict = Gaus.predict(x_test)\n",
        "akurasi_Gaus = accuracy_score(y_test, Gaus_predict)\n",
        "print(\"Akurasi algoritma Naive Bayes :\", round(akurasi_Gaus,2))"
      ]
    },
    {
      "cell_type": "code",
      "execution_count": null,
      "metadata": {
        "id": "UaZ9ivWAYUar"
      },
      "outputs": [],
      "source": [
        "df.to_csv(\"SupervisedBike.csv\")"
      ]
    }
  ],
  "metadata": {
    "colab": {
      "collapsed_sections": [],
      "private_outputs": true,
      "provenance": []
    },
    "kernelspec": {
      "display_name": "Python 3.10.7 64-bit",
      "language": "python",
      "name": "python3"
    },
    "language_info": {
      "name": "python",
      "version": "3.10.7"
    },
    "vscode": {
      "interpreter": {
        "hash": "107d7b120a5b68773a87d4067e673630b35702e55ebab3138143d08b1c4d7cbc"
      }
    }
  },
  "nbformat": 4,
  "nbformat_minor": 0
}
