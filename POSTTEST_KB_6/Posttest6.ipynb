{
  "cells": [
    {
      "cell_type": "markdown",
      "metadata": {},
      "source": [
        "<h3>POSTTEST 6 KB<h3>"
      ]
    },
    {
      "cell_type": "markdown",
      "metadata": {},
      "source": [
        "RAHMADANI <br>\n",
        "2009106082"
      ]
    },
    {
      "cell_type": "markdown",
      "metadata": {},
      "source": [
        "<hr> <h4>LIBRARY<h4> <hr>"
      ]
    },
    {
      "cell_type": "code",
      "execution_count": null,
      "metadata": {
        "id": "tcNao7ul3xC_"
      },
      "outputs": [],
      "source": [
        "import pandas as pd\n",
        "import numpy as  np\n",
        "import seaborn as sns\n",
        "import matplotlib.pyplot as plt\n",
        "\n",
        "from sklearn.impute import SimpleImputer\n",
        "from sklearn.cluster import KMeans\n"
      ]
    },
    {
      "cell_type": "markdown",
      "metadata": {},
      "source": [
        "<hr> MELIHAT DATASET <hr>"
      ]
    },
    {
      "cell_type": "code",
      "execution_count": null,
      "metadata": {
        "id": "CY0mJ20w8WdR"
      },
      "outputs": [],
      "source": [
        "df = pd.read_csv(\"Citibike.csv\")\n",
        "df.head(11)"
      ]
    },
    {
      "cell_type": "code",
      "execution_count": null,
      "metadata": {
        "id": "8wkDFeA2-g2u"
      },
      "outputs": [],
      "source": [
        "df2 = pd.read_csv(\"SupervisedBike.csv\")\n",
        "df2.head(11)"
      ]
    },
    {
      "cell_type": "markdown",
      "metadata": {},
      "source": [
        "<hr> MELIHAT DATA RECORD <hr>"
      ]
    },
    {
      "cell_type": "code",
      "execution_count": null,
      "metadata": {
        "id": "XDEtkEWS8oVV"
      },
      "outputs": [],
      "source": [
        "df.info()"
      ]
    },
    {
      "cell_type": "code",
      "execution_count": null,
      "metadata": {
        "id": "JFxjMPAX_Uts"
      },
      "outputs": [],
      "source": [
        "df2.info()"
      ]
    },
    {
      "cell_type": "markdown",
      "metadata": {},
      "source": [
        "<hr> DATA CLEANING <hr>"
      ]
    },
    {
      "cell_type": "code",
      "execution_count": null,
      "metadata": {
        "id": "gqpIMhjx-WKV"
      },
      "outputs": [],
      "source": [
        "dataset_clean = df.copy()\n",
        "dataset_clean2 = df2.copy()"
      ]
    },
    {
      "cell_type": "code",
      "execution_count": null,
      "metadata": {
        "id": "9DvT9NN5_LxE"
      },
      "outputs": [],
      "source": [
        "imputer_mean = SimpleImputer(strategy='mean')\n",
        "imputer_median = SimpleImputer(strategy='median')\n",
        "imputer_modus = SimpleImputer(strategy='most_frequent')"
      ]
    },
    {
      "cell_type": "markdown",
      "metadata": {},
      "source": [
        "<hr> MODUS <hr>"
      ]
    },
    {
      "cell_type": "code",
      "execution_count": null,
      "metadata": {
        "id": "NzvBF2k4_86T"
      },
      "outputs": [],
      "source": [
        "dataset_clean2['age'] = imputer_mean.fit_transform(dataset_clean2[['age']])\n",
        "\n",
        "dataset_clean2.isna().sum()"
      ]
    },
    {
      "cell_type": "markdown",
      "metadata": {},
      "source": [
        "<hr> MEDIAN <hr>"
      ]
    },
    {
      "cell_type": "code",
      "execution_count": null,
      "metadata": {
        "id": "OlHdyYogA6QR"
      },
      "outputs": [],
      "source": [
        "dataset_clean2['trip_duration'] = imputer_median.fit_transform(dataset_clean2[['trip_duration']])\n",
        "\n",
        "dataset_clean2.isna().sum()"
      ]
    },
    {
      "cell_type": "code",
      "execution_count": null,
      "metadata": {
        "id": "EZSxEoUlBfb1"
      },
      "outputs": [],
      "source": [
        "dataset_clean2.dropna(inplace=True)\n",
        "\n",
        "dataset_clean2.isna().sum()"
      ]
    },
    {
      "cell_type": "code",
      "execution_count": null,
      "metadata": {
        "id": "euFwcUpeBp_x"
      },
      "outputs": [],
      "source": [
        "len(dataset_clean2)"
      ]
    },
    {
      "cell_type": "markdown",
      "metadata": {},
      "source": [
        "<hr>DATA DUPLICATED<hr>"
      ]
    },
    {
      "cell_type": "code",
      "execution_count": null,
      "metadata": {
        "id": "hrZwI37pCqjP"
      },
      "outputs": [],
      "source": [
        "dataset_duplicate = df2.copy()\n",
        "\n",
        "dataset_duplicate.duplicated().sum()"
      ]
    },
    {
      "cell_type": "code",
      "execution_count": null,
      "metadata": {
        "id": "0SfW3fBZC5fG"
      },
      "outputs": [],
      "source": [
        "dataset_duplicate.drop_duplicates(inplace=True)\n",
        "\n",
        "dataset_duplicate.duplicated().sum()"
      ]
    },
    {
      "cell_type": "markdown",
      "metadata": {},
      "source": [
        "<hr>K-MEANS<hr>"
      ]
    },
    {
      "cell_type": "code",
      "execution_count": null,
      "metadata": {
        "id": "349rn8dBDKjs"
      },
      "outputs": [],
      "source": [
        "dataset_clean2.head()"
      ]
    },
    {
      "cell_type": "code",
      "execution_count": null,
      "metadata": {
        "id": "t_oW1ObcDnN6"
      },
      "outputs": [],
      "source": [
        "dataset_clean2.info()"
      ]
    },
    {
      "cell_type": "code",
      "execution_count": null,
      "metadata": {
        "id": "-d3y2_w2D6Y9"
      },
      "outputs": [],
      "source": [
        "set_model = KMeans(n_clusters=4)"
      ]
    },
    {
      "cell_type": "code",
      "execution_count": null,
      "metadata": {
        "id": "Z4wEuF_cEAw4"
      },
      "outputs": [],
      "source": [
        "point = dataset_clean2[['age','trip_duration']]"
      ]
    },
    {
      "cell_type": "code",
      "execution_count": null,
      "metadata": {
        "id": "zHamXwHWEsN2"
      },
      "outputs": [],
      "source": [
        "set_model.fit(point)"
      ]
    },
    {
      "cell_type": "code",
      "execution_count": null,
      "metadata": {
        "id": "VH7h216QExG0"
      },
      "outputs": [],
      "source": [
        "labels = set_model.labels_"
      ]
    },
    {
      "cell_type": "code",
      "execution_count": null,
      "metadata": {
        "id": "6rzrFyIRE7Q3"
      },
      "outputs": [],
      "source": [
        "labels"
      ]
    },
    {
      "cell_type": "code",
      "execution_count": null,
      "metadata": {
        "id": "p1WzBIO2FDn5"
      },
      "outputs": [],
      "source": [
        "x = point['age']\n",
        "y = point['trip_duration']"
      ]
    },
    {
      "cell_type": "code",
      "execution_count": null,
      "metadata": {
        "id": "xULwgm5mFSyH"
      },
      "outputs": [],
      "source": [
        "data_centroid = set_model.cluster_centers_"
      ]
    },
    {
      "cell_type": "code",
      "execution_count": null,
      "metadata": {
        "id": "TaNn4UYmFY8E"
      },
      "outputs": [],
      "source": [
        "data_centroid"
      ]
    },
    {
      "cell_type": "code",
      "execution_count": null,
      "metadata": {
        "id": "CyRi6m-AFjuv"
      },
      "outputs": [],
      "source": [
        "centroid_x = data_centroid[:,0]\n",
        "centroid_y = data_centroid[:,1]"
      ]
    },
    {
      "cell_type": "markdown",
      "metadata": {},
      "source": [
        "<hr> VISUALISASI <hr>"
      ]
    },
    {
      "cell_type": "code",
      "execution_count": null,
      "metadata": {
        "id": "0Me-3gCCGBf4"
      },
      "outputs": [],
      "source": [
        "plt.figure(figsize=(8,8))\n",
        "plt.scatter(x, y, alpha=0.5, c=labels)\n",
        "plt.scatter(centroid_x, centroid_y, marker='D', s=50, label='Centroid')\n",
        "plt.xlabel('Age')\n",
        "plt.ylabel('Trip Duration')\n",
        "plt.legend()\n",
        "plt.show()"
      ]
    },
    {
      "cell_type": "code",
      "execution_count": null,
      "metadata": {
        "id": "BG8RWOnyIeaj"
      },
      "outputs": [],
      "source": [
        "cluster_range = range(1,9)\n",
        "inertias = []\n",
        "\n",
        "for k in cluster_range:\n",
        "    set_model = KMeans(n_clusters=k)\n",
        "    set_model.fit(point)\n",
        "    inertias.append(set_model.inertia_)"
      ]
    },
    {
      "cell_type": "code",
      "execution_count": null,
      "metadata": {
        "id": "EjSs7j5oJP69"
      },
      "outputs": [],
      "source": [
        "plt.figure(figsize=(8,8))\n",
        "plt.plot(cluster_range, inertias, '-o')\n",
        "plt.xlabel('Cluster ke-')\n",
        "plt.ylabel('Sum Square Error')\n",
        "plt.xticks(cluster_range)\n",
        "plt.show()"
      ]
    }
  ],
  "metadata": {
    "colab": {
      "private_outputs": true,
      "provenance": []
    },
    "kernelspec": {
      "display_name": "Python 3.10.7 64-bit",
      "language": "python",
      "name": "python3"
    },
    "language_info": {
      "name": "python",
      "version": "3.10.7"
    },
    "vscode": {
      "interpreter": {
        "hash": "107d7b120a5b68773a87d4067e673630b35702e55ebab3138143d08b1c4d7cbc"
      }
    }
  },
  "nbformat": 4,
  "nbformat_minor": 0
}
