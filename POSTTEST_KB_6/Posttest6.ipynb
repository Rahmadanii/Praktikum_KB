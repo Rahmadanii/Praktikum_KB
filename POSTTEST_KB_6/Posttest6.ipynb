{
  "nbformat": 4,
  "nbformat_minor": 0,
  "metadata": {
    "colab": {
      "private_outputs": true,
      "provenance": []
    },
    "kernelspec": {
      "name": "python3",
      "display_name": "Python 3"
    },
    "language_info": {
      "name": "python"
    }
  },
  "cells": [
    {
      "cell_type": "code",
      "execution_count": null,
      "metadata": {
        "id": "tcNao7ul3xC_"
      },
      "outputs": [],
      "source": [
        "import pandas as pd\n",
        "import numpy as  np\n",
        "import seaborn as sns\n",
        "import matplotlib.pyplot as plt\n",
        "\n",
        "from sklearn.impute import SimpleImputer\n",
        "from sklearn.cluster import KMeans\n"
      ]
    },
    {
      "cell_type": "code",
      "source": [
        "lihat dataset"
      ],
      "metadata": {
        "id": "AgTRfvg8_n68"
      },
      "execution_count": null,
      "outputs": []
    },
    {
      "cell_type": "code",
      "source": [
        "df = pd.read_csv(\"Citibike.csv\")\n",
        "df.head(11)"
      ],
      "metadata": {
        "id": "CY0mJ20w8WdR"
      },
      "execution_count": null,
      "outputs": []
    },
    {
      "cell_type": "code",
      "source": [
        "df2 = pd.read_csv(\"SupervisedBike.csv\")\n",
        "df2.head(11)"
      ],
      "metadata": {
        "id": "8wkDFeA2-g2u"
      },
      "execution_count": null,
      "outputs": []
    },
    {
      "cell_type": "code",
      "source": [
        "data record"
      ],
      "metadata": {
        "id": "JPf1NR2k_Wi4"
      },
      "execution_count": null,
      "outputs": []
    },
    {
      "cell_type": "code",
      "source": [
        "df.info()"
      ],
      "metadata": {
        "id": "XDEtkEWS8oVV"
      },
      "execution_count": null,
      "outputs": []
    },
    {
      "cell_type": "code",
      "source": [
        "df2.info()"
      ],
      "metadata": {
        "id": "JFxjMPAX_Uts"
      },
      "execution_count": null,
      "outputs": []
    },
    {
      "cell_type": "code",
      "source": [
        "data cleaning"
      ],
      "metadata": {
        "id": "Vg95VrcO_swl"
      },
      "execution_count": null,
      "outputs": []
    },
    {
      "cell_type": "code",
      "source": [
        "dataset_clean = df.copy()\n",
        "dataset_clean2 = df2.copy()"
      ],
      "metadata": {
        "id": "gqpIMhjx-WKV"
      },
      "execution_count": null,
      "outputs": []
    },
    {
      "cell_type": "code",
      "source": [
        "imputer_mean = SimpleImputer(strategy='mean')\n",
        "imputer_median = SimpleImputer(strategy='median')\n",
        "imputer_modus = SimpleImputer(strategy='most_frequent')"
      ],
      "metadata": {
        "id": "9DvT9NN5_LxE"
      },
      "execution_count": null,
      "outputs": []
    },
    {
      "cell_type": "code",
      "source": [
        "modus"
      ],
      "metadata": {
        "id": "LWmedo3O_RwJ"
      },
      "execution_count": null,
      "outputs": []
    },
    {
      "cell_type": "code",
      "source": [
        "dataset_clean2['age'] = imputer_mean.fit_transform(dataset_clean2[['age']])\n",
        "\n",
        "dataset_clean2.isna().sum()"
      ],
      "metadata": {
        "id": "NzvBF2k4_86T"
      },
      "execution_count": null,
      "outputs": []
    },
    {
      "cell_type": "code",
      "source": [
        "median"
      ],
      "metadata": {
        "id": "ZEn4SX_jA32M"
      },
      "execution_count": null,
      "outputs": []
    },
    {
      "cell_type": "code",
      "source": [
        "dataset_clean2['trip_duration'] = imputer_median.fit_transform(dataset_clean2[['trip_duration']])\n",
        "\n",
        "dataset_clean2.isna().sum()"
      ],
      "metadata": {
        "id": "OlHdyYogA6QR"
      },
      "execution_count": null,
      "outputs": []
    },
    {
      "cell_type": "code",
      "source": [
        "dataset_clean2.dropna(inplace=True)\n",
        "\n",
        "dataset_clean2.isna().sum()"
      ],
      "metadata": {
        "id": "EZSxEoUlBfb1"
      },
      "execution_count": null,
      "outputs": []
    },
    {
      "cell_type": "code",
      "source": [
        "len(dataset_clean2)"
      ],
      "metadata": {
        "id": "euFwcUpeBp_x"
      },
      "execution_count": null,
      "outputs": []
    },
    {
      "cell_type": "code",
      "source": [
        "duplikat"
      ],
      "metadata": {
        "id": "ikFfNQWuBqsS"
      },
      "execution_count": null,
      "outputs": []
    },
    {
      "cell_type": "code",
      "source": [
        "dataset_duplicate = df2.copy()\n",
        "\n",
        "dataset_duplicate.duplicated().sum()"
      ],
      "metadata": {
        "id": "hrZwI37pCqjP"
      },
      "execution_count": null,
      "outputs": []
    },
    {
      "cell_type": "code",
      "source": [
        "dataset_duplicate.drop_duplicates(inplace=True)\n",
        "\n",
        "dataset_duplicate.duplicated().sum()"
      ],
      "metadata": {
        "id": "0SfW3fBZC5fG"
      },
      "execution_count": null,
      "outputs": []
    },
    {
      "cell_type": "code",
      "source": [
        "k-means"
      ],
      "metadata": {
        "id": "V0Z93HAqDIgJ"
      },
      "execution_count": null,
      "outputs": []
    },
    {
      "cell_type": "code",
      "source": [
        "dataset_clean2.head()"
      ],
      "metadata": {
        "id": "349rn8dBDKjs"
      },
      "execution_count": null,
      "outputs": []
    },
    {
      "cell_type": "code",
      "source": [
        "dataset_clean2.info()"
      ],
      "metadata": {
        "id": "t_oW1ObcDnN6"
      },
      "execution_count": null,
      "outputs": []
    },
    {
      "cell_type": "code",
      "source": [
        "set_model = KMeans(n_clusters=4)"
      ],
      "metadata": {
        "id": "-d3y2_w2D6Y9"
      },
      "execution_count": null,
      "outputs": []
    },
    {
      "cell_type": "code",
      "source": [
        "point = dataset_clean2[['age','trip_duration']]"
      ],
      "metadata": {
        "id": "Z4wEuF_cEAw4"
      },
      "execution_count": null,
      "outputs": []
    },
    {
      "cell_type": "code",
      "source": [
        "set_model.fit(point)"
      ],
      "metadata": {
        "id": "zHamXwHWEsN2"
      },
      "execution_count": null,
      "outputs": []
    },
    {
      "cell_type": "code",
      "source": [
        "labels = set_model.labels_"
      ],
      "metadata": {
        "id": "VH7h216QExG0"
      },
      "execution_count": null,
      "outputs": []
    },
    {
      "cell_type": "code",
      "source": [
        "labels"
      ],
      "metadata": {
        "id": "6rzrFyIRE7Q3"
      },
      "execution_count": null,
      "outputs": []
    },
    {
      "cell_type": "code",
      "source": [
        "x = point['age']\n",
        "y = point['trip_duration']"
      ],
      "metadata": {
        "id": "p1WzBIO2FDn5"
      },
      "execution_count": null,
      "outputs": []
    },
    {
      "cell_type": "code",
      "source": [
        "data_centroid = set_model.cluster_centers_"
      ],
      "metadata": {
        "id": "xULwgm5mFSyH"
      },
      "execution_count": null,
      "outputs": []
    },
    {
      "cell_type": "code",
      "source": [
        "data_centroid"
      ],
      "metadata": {
        "id": "TaNn4UYmFY8E"
      },
      "execution_count": null,
      "outputs": []
    },
    {
      "cell_type": "code",
      "source": [
        "centroid_x = data_centroid[:,0]\n",
        "centroid_y = data_centroid[:,1]"
      ],
      "metadata": {
        "id": "CyRi6m-AFjuv"
      },
      "execution_count": null,
      "outputs": []
    },
    {
      "cell_type": "code",
      "source": [
        "visualisasi"
      ],
      "metadata": {
        "id": "ZM4vaZA2FuZr"
      },
      "execution_count": null,
      "outputs": []
    },
    {
      "cell_type": "code",
      "source": [
        "plt.figure(figsize=(8,8))\n",
        "plt.scatter(x, y, alpha=0.5, c=labels)\n",
        "plt.scatter(centroid_x, centroid_y, marker='D', s=50, label='Centroid')\n",
        "plt.xlabel('Age')\n",
        "plt.ylabel('Trip Duration')\n",
        "plt.legend()\n",
        "plt.show()"
      ],
      "metadata": {
        "id": "0Me-3gCCGBf4"
      },
      "execution_count": null,
      "outputs": []
    },
    {
      "cell_type": "code",
      "source": [
        "cluster_range = range(1,9)\n",
        "inertias = []\n",
        "\n",
        "for k in cluster_range:\n",
        "    set_model = KMeans(n_clusters=k)\n",
        "    set_model.fit(point)\n",
        "    inertias.append(set_model.inertia_)"
      ],
      "metadata": {
        "id": "BG8RWOnyIeaj"
      },
      "execution_count": null,
      "outputs": []
    },
    {
      "cell_type": "code",
      "source": [
        "plt.figure(figsize=(8,8))\n",
        "plt.plot(cluster_range, inertias, '-o')\n",
        "plt.xlabel('Cluster ke-')\n",
        "plt.ylabel('Sum Square Error')\n",
        "plt.xticks(cluster_range)\n",
        "plt.show()"
      ],
      "metadata": {
        "id": "EjSs7j5oJP69"
      },
      "execution_count": null,
      "outputs": []
    }
  ]
}