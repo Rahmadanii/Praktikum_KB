{
  "cells": [
    {
      "cell_type": "markdown",
      "metadata": {},
      "source": [
        "<h2>POSTTEST-KB-7 <h2>"
      ]
    },
    {
      "cell_type": "markdown",
      "metadata": {},
      "source": [
        "<h4>RAHMADANI <br>\n",
        "2009106082<H4>"
      ]
    },
    {
      "cell_type": "markdown",
      "metadata": {},
      "source": [
        "IMPORT LIBRARY"
      ]
    },
    {
      "cell_type": "code",
      "execution_count": null,
      "metadata": {
        "id": "-sI37Ov1fmZV"
      },
      "outputs": [],
      "source": [
        "import numpy as  np\n",
        "import tensorflow as tf"
      ]
    },
    {
      "cell_type": "markdown",
      "metadata": {},
      "source": [
        "MEMBUAT RANDOM TENSOR SHAPE (5,5)"
      ]
    },
    {
      "cell_type": "code",
      "execution_count": null,
      "metadata": {
        "id": "ShrG6Ydbf0Ub"
      },
      "outputs": [],
      "source": [
        "random_tensor = tf.random.normal([5,5], mean=0, stddev=1, seed=1)\n",
        "random_tensor"
      ]
    },
    {
      "cell_type": "markdown",
      "metadata": {},
      "source": [
        "MEMBUAT PRIME TENSOR LIST BILANGAN PRIMA SHAPE (5,5)"
      ]
    },
    {
      "cell_type": "code",
      "execution_count": null,
      "metadata": {
        "id": "su5GCpBXgWAw"
      },
      "outputs": [],
      "source": [
        "prime_tensor = tf.constant([2, 3, 5, 7, 11, 13, 17, 19, 23, 29, 31, 37, 41, 43, 47, 53, 59, 61, 71, 73, 79, 83, 89, 97, 101], shape = [5,5], dtype = tf.float32)\n",
        "prime_tensor"
      ]
    },
    {
      "cell_type": "markdown",
      "metadata": {},
      "source": [
        "PERHITUNGAN ARITMATIKA PERTAMBAHAN (ADD)"
      ]
    },
    {
      "cell_type": "code",
      "execution_count": null,
      "metadata": {
        "id": "9mVQn0R-iIJC"
      },
      "outputs": [],
      "source": [
        "print(tf.add(random_tensor, prime_tensor))"
      ]
    },
    {
      "cell_type": "markdown",
      "metadata": {},
      "source": [
        "PERHITUNGAN ARITMATIKA PERKALIAN (MULTIPLY)"
      ]
    },
    {
      "cell_type": "code",
      "execution_count": null,
      "metadata": {
        "id": "zIrKGfvgiQLh"
      },
      "outputs": [],
      "source": [
        "print(tf.multiply(random_tensor, prime_tensor))"
      ]
    },
    {
      "cell_type": "markdown",
      "metadata": {},
      "source": [
        "PERHITUNGAN ARITMATIKA PANGKAT (POW)"
      ]
    },
    {
      "cell_type": "code",
      "execution_count": null,
      "metadata": {
        "id": "rn6HjO3uigEM"
      },
      "outputs": [],
      "source": [
        "print(tf.pow(random_tensor, prime_tensor))"
      ]
    },
    {
      "cell_type": "markdown",
      "metadata": {},
      "source": [
        "PERHITUNGAN ARITMATIKA PEMBAGIAN (DIVIDE)"
      ]
    },
    {
      "cell_type": "code",
      "execution_count": null,
      "metadata": {
        "id": "ZCGDINslilqs"
      },
      "outputs": [],
      "source": [
        "print(tf.divide(random_tensor, prime_tensor))"
      ]
    },
    {
      "cell_type": "markdown",
      "metadata": {},
      "source": [
        "PERHITUNGAN ARITMATIKA LOGARITMA (MATH.LOG)"
      ]
    },
    {
      "cell_type": "code",
      "execution_count": null,
      "metadata": {
        "id": "9-2FtroAis_t"
      },
      "outputs": [],
      "source": [
        "print(tf.math.log(random_tensor, prime_tensor))"
      ]
    },
    {
      "cell_type": "markdown",
      "metadata": {},
      "source": [
        "NILAI MAXIMUM RANDOM TENSOR"
      ]
    },
    {
      "cell_type": "code",
      "execution_count": null,
      "metadata": {
        "id": "5AiDVZiii4yE"
      },
      "outputs": [],
      "source": [
        "argmax_random = tf.random.normal([5,5])\n",
        "print(\"input random tensor:\", argmax_random.numpy())\n",
        "\n",
        "max_random_1 = tf.argmax(argmax_random, axis = 0)\n",
        "max_random_2 = tf.argmax(argmax_random, axis = 1)\n",
        "\n",
        "print(\"maximum value berdasarkan baris:\", max_random_1.numpy())\n",
        "print(\"maximum value berdasarkan kolom:\", max_random_2.numpy())"
      ]
    },
    {
      "cell_type": "markdown",
      "metadata": {},
      "source": [
        "NILAI MINIMUM RANDOM TENSOR"
      ]
    },
    {
      "cell_type": "code",
      "execution_count": null,
      "metadata": {
        "id": "6gi0RyUcj6lk"
      },
      "outputs": [],
      "source": [
        "argmin_random = tf.random.normal([5,5])\n",
        "print(\"input random tersor:\", argmin_random.numpy())\n",
        "\n",
        "min_random_1 = tf.argmin(argmin_random, axis = 0)\n",
        "min_random_2 = tf.argmin(argmin_random, axis = 1)\n",
        "\n",
        "print(\"manimum value berdasarkan baris:\", min_random_1.numpy())\n",
        "print(\"manimum value berdasarkan kolom:\", min_random_2.numpy())"
      ]
    },
    {
      "cell_type": "markdown",
      "metadata": {},
      "source": [
        "PENGGABUNGAN VARIABEL RANDOM TENSOR DAN PRIME TENSOR (CONCATENATION)"
      ]
    },
    {
      "cell_type": "code",
      "execution_count": null,
      "metadata": {
        "id": "aErRL_-BkcY8"
      },
      "outputs": [],
      "source": [
        "random_tensor = tf.random.normal([5,5], mean=0, stddev=1, seed=1)\n",
        "prime_tensor  = tf.constant([2, 3, 5, 7, 11, 13, 17, 19, 23, 29, 31, 37, 41, 43, 47, 53, 59, 61, 71, 73, 79, 83, 89, 97, 101], \n",
        "                shape=[5, 5], dtype=tf.float32)\n",
        "print(\"size original data:\",random_tensor.shape,prime_tensor.shape)\n",
        "concated_tensor = tf.concat([random_tensor,prime_tensor],axis=0)\n",
        "print(\"size concatenated data:\",concated_tensor.shape)"
      ]
    },
    {
      "cell_type": "markdown",
      "metadata": {},
      "source": [
        "SORTING VARIABEL RANDOM TENSOR DAN PRIME TENSOR (DESCENDING)"
      ]
    },
    {
      "cell_type": "code",
      "execution_count": null,
      "metadata": {
        "id": "anUGM2hpk7Lr"
      },
      "outputs": [],
      "source": [
        "random_tensor = tf.random.normal([5,5], mean=0, stddev=1, seed=1)\n",
        "print(\"input random tensor:\",random_tensor.numpy())\n",
        "prime_tensor  = tf.constant([2, 3, 5, 7, 11, 13, 17, 19, 23, 29, 31, 37, 41, 43, 47, 53, 59, 61, 71, 73, 79, 83, 89, 97, 101], \n",
        "                shape=[5, 5], dtype=tf.float32)\n",
        "\n",
        "print(\"input prime tensor:\",prime_tensor.numpy())\n",
        "sorted_random = tf.sort(random_tensor, direction = \"DESCENDING\")\n",
        "print(\"random tensor sorted dengan descending order:\",sorted_random.numpy())\n",
        "sorted_prime = tf.sort(prime_tensor, direction = \"DESCENDING\")\n",
        "print(\"prime tensor sorted dengan descending order:\",sorted_prime.numpy())"
      ]
    }
  ],
  "metadata": {
    "colab": {
      "private_outputs": true,
      "provenance": []
    },
    "kernelspec": {
      "display_name": "Python 3.10.7 64-bit",
      "language": "python",
      "name": "python3"
    },
    "language_info": {
      "name": "python",
      "version": "3.10.7"
    },
    "vscode": {
      "interpreter": {
        "hash": "107d7b120a5b68773a87d4067e673630b35702e55ebab3138143d08b1c4d7cbc"
      }
    }
  },
  "nbformat": 4,
  "nbformat_minor": 0
}
